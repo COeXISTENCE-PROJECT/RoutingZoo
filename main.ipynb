{
 "cells": [
  {
   "cell_type": "code",
   "execution_count": 1,
   "metadata": {},
   "outputs": [],
   "source": [
    "import data_analysis as da"
   ]
  },
  {
   "cell_type": "code",
   "execution_count": 2,
   "metadata": {},
   "outputs": [],
   "source": [
    "program = da.Table_record_creator(300,'grid_markow_1000_0.2_0',0,3)"
   ]
  },
  {
   "cell_type": "code",
   "execution_count": 3,
   "metadata": {},
   "outputs": [
    {
     "name": "stderr",
     "output_type": "stream",
     "text": [
      "/Users/zoltanvarga/Documents/Simulator_human_behaviour/data_analysis.py:339: RuntimeWarning: invalid value encountered in scalar divide\n",
      "  probabilities = [i / total_count for i in calc]\n"
     ]
    },
    {
     "name": "stdout",
     "output_type": "stream",
     "text": [
      "Run was succesful\n"
     ]
    }
   ],
   "source": [
    "df = program.table_record()"
   ]
  },
  {
   "cell_type": "code",
   "execution_count": 4,
   "metadata": {},
   "outputs": [
    {
     "data": {
      "text/plain": [
       "'\\\\begin{tabular}{llllllrrrrrr}\\n\\\\toprule\\n & network & model & demand & Bounded & Greedy & link_value & link_std & TT_value & TT_std & entropy_value & entropy_std \\\\\\\\\\n\\\\midrule\\n0 & grid & markow & 1000 & 0.2 & 0 & 36.000000 & 11.210000 & 62844.000000 & 4408.820000 & 0.270000 & 0.410000 \\\\\\\\\\n\\\\bottomrule\\n\\\\end{tabular}\\n'"
      ]
     },
     "execution_count": 4,
     "metadata": {},
     "output_type": "execute_result"
    }
   ],
   "source": [
    "df.to_latex()"
   ]
  },
  {
   "cell_type": "code",
   "execution_count": 41,
   "metadata": {},
   "outputs": [],
   "source": [
    "import pandas as pd"
   ]
  },
  {
   "cell_type": "code",
   "execution_count": 43,
   "metadata": {},
   "outputs": [
    {
     "data": {
      "text/html": [
       "<div>\n",
       "<style scoped>\n",
       "    .dataframe tbody tr th:only-of-type {\n",
       "        vertical-align: middle;\n",
       "    }\n",
       "\n",
       "    .dataframe tbody tr th {\n",
       "        vertical-align: top;\n",
       "    }\n",
       "\n",
       "    .dataframe thead th {\n",
       "        text-align: right;\n",
       "    }\n",
       "</style>\n",
       "<table border=\"1\" class=\"dataframe\">\n",
       "  <thead>\n",
       "    <tr style=\"text-align: right;\">\n",
       "      <th></th>\n",
       "      <th>Unnamed: 0</th>\n",
       "      <th>departure_time</th>\n",
       "      <th>arrival_time</th>\n",
       "      <th>ox</th>\n",
       "      <th>oy</th>\n",
       "      <th>dx</th>\n",
       "      <th>dy</th>\n",
       "    </tr>\n",
       "  </thead>\n",
       "  <tbody>\n",
       "    <tr>\n",
       "      <th>0</th>\n",
       "      <td>0</td>\n",
       "      <td>21935</td>\n",
       "      <td>29735</td>\n",
       "      <td>2.409292</td>\n",
       "      <td>48.854305</td>\n",
       "      <td>3.354430</td>\n",
       "      <td>48.539813</td>\n",
       "    </tr>\n",
       "    <tr>\n",
       "      <th>1</th>\n",
       "      <td>1</td>\n",
       "      <td>59735</td>\n",
       "      <td>67835</td>\n",
       "      <td>3.354430</td>\n",
       "      <td>48.539813</td>\n",
       "      <td>2.409292</td>\n",
       "      <td>48.854305</td>\n",
       "    </tr>\n",
       "    <tr>\n",
       "      <th>2</th>\n",
       "      <td>2</td>\n",
       "      <td>23194</td>\n",
       "      <td>30994</td>\n",
       "      <td>2.373045</td>\n",
       "      <td>48.890396</td>\n",
       "      <td>3.348893</td>\n",
       "      <td>48.536200</td>\n",
       "    </tr>\n",
       "    <tr>\n",
       "      <th>3</th>\n",
       "      <td>3</td>\n",
       "      <td>60994</td>\n",
       "      <td>69094</td>\n",
       "      <td>3.348893</td>\n",
       "      <td>48.536200</td>\n",
       "      <td>2.373045</td>\n",
       "      <td>48.890396</td>\n",
       "    </tr>\n",
       "    <tr>\n",
       "      <th>4</th>\n",
       "      <td>4</td>\n",
       "      <td>25145</td>\n",
       "      <td>32945</td>\n",
       "      <td>2.389739</td>\n",
       "      <td>48.879138</td>\n",
       "      <td>3.355642</td>\n",
       "      <td>48.539596</td>\n",
       "    </tr>\n",
       "    <tr>\n",
       "      <th>...</th>\n",
       "      <td>...</td>\n",
       "      <td>...</td>\n",
       "      <td>...</td>\n",
       "      <td>...</td>\n",
       "      <td>...</td>\n",
       "      <td>...</td>\n",
       "      <td>...</td>\n",
       "    </tr>\n",
       "    <tr>\n",
       "      <th>13498</th>\n",
       "      <td>13659</td>\n",
       "      <td>48889</td>\n",
       "      <td>49189</td>\n",
       "      <td>3.371635</td>\n",
       "      <td>48.530162</td>\n",
       "      <td>3.372080</td>\n",
       "      <td>48.532322</td>\n",
       "    </tr>\n",
       "    <tr>\n",
       "      <th>13499</th>\n",
       "      <td>13660</td>\n",
       "      <td>62989</td>\n",
       "      <td>65389</td>\n",
       "      <td>3.372080</td>\n",
       "      <td>48.532322</td>\n",
       "      <td>2.347079</td>\n",
       "      <td>48.938580</td>\n",
       "    </tr>\n",
       "    <tr>\n",
       "      <th>13500</th>\n",
       "      <td>13661</td>\n",
       "      <td>30012</td>\n",
       "      <td>31812</td>\n",
       "      <td>2.358421</td>\n",
       "      <td>48.772321</td>\n",
       "      <td>3.372080</td>\n",
       "      <td>48.532322</td>\n",
       "    </tr>\n",
       "    <tr>\n",
       "      <th>13501</th>\n",
       "      <td>13662</td>\n",
       "      <td>46212</td>\n",
       "      <td>48012</td>\n",
       "      <td>3.372080</td>\n",
       "      <td>48.532322</td>\n",
       "      <td>2.358421</td>\n",
       "      <td>48.772321</td>\n",
       "    </tr>\n",
       "    <tr>\n",
       "      <th>13502</th>\n",
       "      <td>13663</td>\n",
       "      <td>43911</td>\n",
       "      <td>44811</td>\n",
       "      <td>3.291240</td>\n",
       "      <td>48.542533</td>\n",
       "      <td>3.386059</td>\n",
       "      <td>48.577697</td>\n",
       "    </tr>\n",
       "  </tbody>\n",
       "</table>\n",
       "<p>13503 rows × 7 columns</p>\n",
       "</div>"
      ],
      "text/plain": [
       "       Unnamed: 0  departure_time  arrival_time        ox         oy  \\\n",
       "0               0           21935         29735  2.409292  48.854305   \n",
       "1               1           59735         67835  3.354430  48.539813   \n",
       "2               2           23194         30994  2.373045  48.890396   \n",
       "3               3           60994         69094  3.348893  48.536200   \n",
       "4               4           25145         32945  2.389739  48.879138   \n",
       "...           ...             ...           ...       ...        ...   \n",
       "13498       13659           48889         49189  3.371635  48.530162   \n",
       "13499       13660           62989         65389  3.372080  48.532322   \n",
       "13500       13661           30012         31812  2.358421  48.772321   \n",
       "13501       13662           46212         48012  3.372080  48.532322   \n",
       "13502       13663           43911         44811  3.291240  48.542533   \n",
       "\n",
       "             dx         dy  \n",
       "0      3.354430  48.539813  \n",
       "1      2.409292  48.854305  \n",
       "2      3.348893  48.536200  \n",
       "3      2.373045  48.890396  \n",
       "4      3.355642  48.539596  \n",
       "...         ...        ...  \n",
       "13498  3.372080  48.532322  \n",
       "13499  2.347079  48.938580  \n",
       "13500  3.372080  48.532322  \n",
       "13501  2.358421  48.772321  \n",
       "13502  3.386059  48.577697  \n",
       "\n",
       "[13503 rows x 7 columns]"
      ]
     },
     "execution_count": 43,
     "metadata": {},
     "output_type": "execute_result"
    }
   ],
   "source": [
    "df"
   ]
  },
  {
   "cell_type": "code",
   "execution_count": 42,
   "metadata": {},
   "outputs": [],
   "source": [
    "df = pd.read_csv('/Users/zoltanvarga/Downloads/sourdun.csv')"
   ]
  },
  {
   "cell_type": "code",
   "execution_count": 15,
   "metadata": {},
   "outputs": [
    {
     "name": "stdout",
     "output_type": "stream",
     "text": [
      "Departure Road IDs: [244455481, 2466594130]\n",
      "Arrival Road IDs: [2466594130, 244455481]\n"
     ]
    }
   ],
   "source": [
    "import osmnx as ox\n",
    "import pandas as pd\n",
    "\n",
    "# Create a DataFrame\n",
    "data = {\n",
    "    \"Unnamed: 0\": [0, 1],\n",
    "    \"departure_time\": [21935, 59735],\n",
    "    \"arrival_time\": [29735, 67835],\n",
    "    \"ox\": [2.409292, 3.354430],\n",
    "    \"oy\": [48.854305, 48.539813],\n",
    "    \"dx\": [3.354430, 2.409292],\n",
    "    \"dy\": [48.539813, 48.854305]\n",
    "}\n",
    "df = pd.DataFrame(data)\n",
    "\n",
    "# Function to get the nearest road ID\n",
    "def get_road_id(lat, lon):\n",
    "    graph = ox.graph_from_point((lat, lon), dist=500, network_type='drive')\n",
    "    node = ox.distance.nearest_nodes(graph, X=lon, Y=lat)\n",
    "    return node\n",
    "\n",
    "# Get road IDs for departure and arrival\n",
    "departure_road_ids = []\n",
    "arrival_road_ids = []\n",
    "\n",
    "for _, row in df.iterrows():\n",
    "    departure_road_ids.append(get_road_id(row['oy'], row['ox']))\n",
    "    arrival_road_ids.append(get_road_id(row['dy'], row['dx']))\n",
    "\n",
    "# Display the road IDs\n",
    "print(\"Departure Road IDs:\", departure_road_ids)\n",
    "print(\"Arrival Road IDs:\", arrival_road_ids)\n"
   ]
  },
  {
   "cell_type": "code",
   "execution_count": 31,
   "metadata": {},
   "outputs": [
    {
     "name": "stdout",
     "output_type": "stream",
     "text": [
      "Found Way IDs (excluding buildings): [238860334]\n"
     ]
    }
   ],
   "source": [
    "import requests\n",
    "\n",
    "# Coordinates for the location you want to query\n",
    "latitude = 48.539813\n",
    "longitude = 3.354430\n",
    "radius = 20  # Search radius in meters\n",
    "\n",
    "# Overpass API query for ways within a certain radius of the given latitude and longitude\n",
    "overpass_url = \"http://overpass-api.de/api/interpreter\"\n",
    "overpass_query = f\"\"\"\n",
    "<osm-script output=\"json\">\n",
    "  <query type=\"way\">\n",
    "    <around lat=\"{latitude}\" lon=\"{longitude}\" radius=\"{radius}\"/>\n",
    "  </query>\n",
    "  <print/>\n",
    "</osm-script>\n",
    "\"\"\"\n",
    "\n",
    "# Send the request to the Overpass API\n",
    "response = requests.get(overpass_url, params={'data': overpass_query})\n",
    "\n",
    "# Check if the response is successful\n",
    "if response.status_code == 200:\n",
    "    data = response.json()\n",
    "    \n",
    "    # Extract Way IDs where the 'building' key is not present\n",
    "    way_ids = [way['id'] for way in data['elements'] if way['type'] == 'way' and 'building' not in way.get('tags', {})]\n",
    "    \n",
    "    if way_ids:\n",
    "        print(\"Found Way IDs (excluding buildings):\", way_ids)\n",
    "    else:\n",
    "        print(\"No ways found in this area that are not buildings.\")\n",
    "else:\n",
    "    print(f\"Request failed with status code {response.status_code}\")\n"
   ]
  },
  {
   "cell_type": "code",
   "execution_count": 39,
   "metadata": {},
   "outputs": [
    {
     "name": "stdout",
     "output_type": "stream",
     "text": [
      "Found Node IDs: [1028123169, 1028123251, 1303617151, 1303617244, 1303617430, 1303617686, 1303617731, 1303617884, 1303618070, 1303618163, 1303618470, 1303618513, 1303618733, 1303619123, 1303619187, 1303619732, 1303619804, 1303619838, 1303620138, 1303620570, 1303620603, 1303620723, 1303620756, 1303620768, 1303620893, 1303621175, 1303621388, 1303621575, 1303621648, 1303622570, 1303622709, 1303622898, 1303622930, 1303622942, 1303623205, 1303623737, 1303624321, 1303624393, 1303624747, 1303624900, 1303625093, 1303625353, 1303626465, 1303626646, 1303627198, 1303627632, 1303627952, 1303628033, 1303628385, 1303628516, 1303628878, 1303628997, 1303629330, 1303629630, 1303629717, 1303630133, 1303630579, 1303631301, 1303631367, 1303631390, 1303631771, 1303632506, 1303632979, 1303634218, 1303634292, 1303634316, 1303634653, 1303635114, 1303635441, 1303635535, 1303635767, 2466594142]\n"
     ]
    }
   ],
   "source": [
    "import requests\n",
    "\n",
    "# Coordinates for the location you want to query\n",
    "latitude = 48.539813\n",
    "longitude = 3.354430\n",
    "radius = 50  # Search radius in meters\n",
    "\n",
    "# Overpass API query for ways and nodes within a certain radius of the given latitude and longitude\n",
    "overpass_url = \"http://overpass-api.de/api/interpreter\"\n",
    "overpass_query = f\"\"\"\n",
    "<osm-script output=\"json\">\n",
    "  <query type=\"node\">\n",
    "    <around lat=\"{latitude}\" lon=\"{longitude}\" radius=\"{radius}\"/>\n",
    "  </query>\n",
    "  <print/>\n",
    "</osm-script>\n",
    "\"\"\"\n",
    "\n",
    "# Send the request to the Overpass API\n",
    "response = requests.get(overpass_url, params={'data': overpass_query})\n",
    "\n",
    "# Check if the response is successful\n",
    "if response.status_code == 200:\n",
    "    data = response.json()\n",
    "    \n",
    "    # Extract Node IDs\n",
    "    node_ids = [node['id'] for node in data['elements'] if node['type'] == 'node']\n",
    "\n",
    "    if node_ids:\n",
    "        print(\"Found Node IDs:\", node_ids)\n",
    "    else:\n",
    "        print(\"No nodes found in this area.\")\n",
    "else:\n",
    "    print(f\"Request failed with status code {response.status_code}\")\n"
   ]
  },
  {
   "cell_type": "code",
   "execution_count": 40,
   "metadata": {},
   "outputs": [
    {
     "name": "stdout",
     "output_type": "stream",
     "text": [
      "Found Way IDs: [238860334, 238860376]\n",
      "Cross-referenced Node IDs (associated with non-building ways): [1028123169, 1028123251, 2466594142]\n"
     ]
    }
   ],
   "source": [
    "import requests\n",
    "\n",
    "# Coordinates for the location you want to query\n",
    "latitude = 48.539813\n",
    "longitude = 3.354430\n",
    "radius = 50  # Search radius in meters\n",
    "\n",
    "# Overpass API query for ways and their nodes within the radius\n",
    "overpass_url = \"http://overpass-api.de/api/interpreter\"\n",
    "overpass_query = f\"\"\"\n",
    "<osm-script output=\"json\">\n",
    "  <query type=\"way\">\n",
    "    <around lat=\"{latitude}\" lon=\"{longitude}\" radius=\"{radius}\"/>\n",
    "  </query>\n",
    "  <print/>\n",
    "  <recurse type=\"way-node\"/>\n",
    "  <query type=\"node\">\n",
    "    <around lat=\"{latitude}\" lon=\"{longitude}\" radius=\"{radius}\"/>\n",
    "  </query>\n",
    "  <print/>\n",
    "</osm-script>\n",
    "\"\"\"\n",
    "\n",
    "response = requests.get(overpass_url, params={'data': overpass_query})\n",
    "\n",
    "# Check if the response was successful\n",
    "if response.status_code == 200:\n",
    "    data = response.json()\n",
    "    \n",
    "    # Separate ways and nodes\n",
    "    ways = [way for way in data['elements'] if way['type'] == 'way' and 'building' not in way.get('tags', {})]\n",
    "    nodes = {node['id']: node for node in data['elements'] if node['type'] == 'node'}\n",
    "    \n",
    "    # Cross-reference nodes with non-building ways\n",
    "    nodes_in_non_building_ways = set()\n",
    "    for way in ways:\n",
    "        if 'building' not in way.get('tags', {}):  # Exclude ways tagged as 'building'\n",
    "            for node_id in way.get('nodes', []):  # Collect node IDs from the way\n",
    "                if node_id in nodes:  # Ensure the node exists in the data\n",
    "                    nodes_in_non_building_ways.add(node_id)\n",
    "    \n",
    "    # Convert to a list for output\n",
    "    cross_referenced_node_ids = list(nodes_in_non_building_ways)\n",
    "    \n",
    "    if ways:\n",
    "        print(\"Found Way IDs:\", [way['id'] for way in ways])\n",
    "    else:\n",
    "        print(\"No ways found within the radius.\")\n",
    "    \n",
    "    if cross_referenced_node_ids:\n",
    "        print(\"Cross-referenced Node IDs (associated with non-building ways):\", cross_referenced_node_ids)\n",
    "    else:\n",
    "        print(\"No nodes found in non-building ways.\")\n",
    "else:\n",
    "    print(f\"Request failed with status code {response.status_code}\")\n"
   ]
  },
  {
   "cell_type": "markdown",
   "metadata": {},
   "source": [
    "Azok a way idk ahonnan from az elso ertelmes megtalalhato nodeid"
   ]
  },
  {
   "cell_type": "markdown",
   "metadata": {},
   "source": []
  }
 ],
 "metadata": {
  "kernelspec": {
   "display_name": "Python 3",
   "language": "python",
   "name": "python3"
  },
  "language_info": {
   "codemirror_mode": {
    "name": "ipython",
    "version": 3
   },
   "file_extension": ".py",
   "mimetype": "text/x-python",
   "name": "python",
   "nbconvert_exporter": "python",
   "pygments_lexer": "ipython3",
   "version": "3.9.7"
  }
 },
 "nbformat": 4,
 "nbformat_minor": 2
}
