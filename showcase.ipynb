{
 "cells": [
  {
   "cell_type": "code",
   "execution_count": 1,
   "metadata": {},
   "outputs": [],
   "source": [
    "%load_ext autoreload\n",
    "%autoreload 2"
   ]
  },
  {
   "cell_type": "code",
   "execution_count": 2,
   "metadata": {},
   "outputs": [],
   "source": [
    "from learning_model import *\n",
    "from routerl import TrafficEnvironment\n",
    "import os\n",
    "from collections import deque\n",
    "from routerl.keychain import Keychain as kc\n",
    "from routerl.environment import generate_agents, generate_agent_data\n",
    "from routerl.utilities import get_params\n",
    "import pandas as pd\n",
    "if \"SUMO_HOME\" not in os.environ:\n",
    "   os.environ[\"SUMO_HOME\"] = \"No\""
   ]
  },
  {
   "cell_type": "code",
   "execution_count": 3,
   "metadata": {},
   "outputs": [],
   "source": [
    "#setting\n",
    "N = 10 # agents\n",
    "k = 2 # paths\n",
    "T = 10 # days\n",
    "alpha_zero = 0.8"
   ]
  },
  {
   "cell_type": "code",
   "execution_count": 4,
   "metadata": {},
   "outputs": [
    {
     "name": "stdout",
     "output_type": "stream",
     "text": [
      "[CONFIRMED] Environment variable exists: SUMO_HOME\n",
      "[SUCCESS] Added module directory: No/tools\n"
     ]
    }
   ],
   "source": [
    "env_params = {\n",
    "    \"agent_parameters\": {\n",
    "        \"num_agents\": N,\n",
    "        \"human_parameters\": {\n",
    "            \"model\": \"gawron\"\n",
    "        },\n",
    "    }, \n",
    "    \"path_generation_parameters\":\n",
    "        {\n",
    "            \"number_of_paths\": k,\n",
    "        }\n",
    "}\n",
    "\n",
    "env = TrafficEnvironment(seed=42, **env_params)"
   ]
  },
  {
   "cell_type": "code",
   "execution_count": 5,
   "metadata": {},
   "outputs": [],
   "source": [
    "#free_flow_travel_times = np.zeros([k,N])\n",
    "env.agent_params[kc.HUMAN_PARAMETERS]['alpha_zero']=0.8"
   ]
  },
  {
   "cell_type": "code",
   "execution_count": 6,
   "metadata": {},
   "outputs": [],
   "source": [
    "all_agents = generate_agents(env.agent_params, env.get_free_flow_times(), True)\n",
    "agents_data_df = generate_agent_data(env.agent_params)\n",
    "agents_data_df['costs'] = [agent.model.cost for agent in env.all_agents]\n",
    "agents_data_df['alpha_zero'] = [agent.model.alpha_zero for agent in env.all_agents]\n",
    "agents_data_df['beta'] = [agent.model.beta for agent in env.all_agents]\n"
   ]
  },
  {
   "cell_type": "code",
   "execution_count": 7,
   "metadata": {},
   "outputs": [
    {
     "data": {
      "text/html": [
       "<div>\n",
       "<style scoped>\n",
       "    .dataframe tbody tr th:only-of-type {\n",
       "        vertical-align: middle;\n",
       "    }\n",
       "\n",
       "    .dataframe tbody tr th {\n",
       "        vertical-align: top;\n",
       "    }\n",
       "\n",
       "    .dataframe thead th {\n",
       "        text-align: right;\n",
       "    }\n",
       "</style>\n",
       "<table border=\"1\" class=\"dataframe\">\n",
       "  <thead>\n",
       "    <tr style=\"text-align: right;\">\n",
       "      <th></th>\n",
       "      <th>id</th>\n",
       "      <th>origin</th>\n",
       "      <th>destination</th>\n",
       "      <th>start_time</th>\n",
       "      <th>kind</th>\n",
       "      <th>costs</th>\n",
       "      <th>alpha_zero</th>\n",
       "      <th>beta</th>\n",
       "    </tr>\n",
       "  </thead>\n",
       "  <tbody>\n",
       "    <tr>\n",
       "      <th>0</th>\n",
       "      <td>0</td>\n",
       "      <td>0</td>\n",
       "      <td>1</td>\n",
       "      <td>56</td>\n",
       "      <td>Human</td>\n",
       "      <td>[1.8649459783913565, 1.8337735094037613]</td>\n",
       "      <td>0.5</td>\n",
       "      <td>-1.438114</td>\n",
       "    </tr>\n",
       "    <tr>\n",
       "      <th>1</th>\n",
       "      <td>1</td>\n",
       "      <td>0</td>\n",
       "      <td>1</td>\n",
       "      <td>48</td>\n",
       "      <td>Human</td>\n",
       "      <td>[2.2530576377419216, 3.264542231579457]</td>\n",
       "      <td>0.5</td>\n",
       "      <td>-1.598700</td>\n",
       "    </tr>\n",
       "    <tr>\n",
       "      <th>2</th>\n",
       "      <td>2</td>\n",
       "      <td>0</td>\n",
       "      <td>1</td>\n",
       "      <td>125</td>\n",
       "      <td>Human</td>\n",
       "      <td>[1.8649459783913565, 1.8337735094037613]</td>\n",
       "      <td>0.5</td>\n",
       "      <td>-1.438836</td>\n",
       "    </tr>\n",
       "    <tr>\n",
       "      <th>3</th>\n",
       "      <td>3</td>\n",
       "      <td>0</td>\n",
       "      <td>0</td>\n",
       "      <td>143</td>\n",
       "      <td>Human</td>\n",
       "      <td>[1.8649459783913565, 1.8337735094037613]</td>\n",
       "      <td>0.5</td>\n",
       "      <td>-1.460372</td>\n",
       "    </tr>\n",
       "    <tr>\n",
       "      <th>4</th>\n",
       "      <td>4</td>\n",
       "      <td>1</td>\n",
       "      <td>0</td>\n",
       "      <td>125</td>\n",
       "      <td>Human</td>\n",
       "      <td>[2.2530576377419216, 3.264542231579457]</td>\n",
       "      <td>0.5</td>\n",
       "      <td>-1.531950</td>\n",
       "    </tr>\n",
       "    <tr>\n",
       "      <th>5</th>\n",
       "      <td>5</td>\n",
       "      <td>0</td>\n",
       "      <td>1</td>\n",
       "      <td>141</td>\n",
       "      <td>Human</td>\n",
       "      <td>[1.8649459783913565, 1.8337735094037613]</td>\n",
       "      <td>0.5</td>\n",
       "      <td>-1.568904</td>\n",
       "    </tr>\n",
       "    <tr>\n",
       "      <th>6</th>\n",
       "      <td>6</td>\n",
       "      <td>0</td>\n",
       "      <td>1</td>\n",
       "      <td>159</td>\n",
       "      <td>Human</td>\n",
       "      <td>[1.8649459783913565, 1.8337735094037613]</td>\n",
       "      <td>0.5</td>\n",
       "      <td>-1.408557</td>\n",
       "    </tr>\n",
       "    <tr>\n",
       "      <th>7</th>\n",
       "      <td>7</td>\n",
       "      <td>1</td>\n",
       "      <td>0</td>\n",
       "      <td>131</td>\n",
       "      <td>Human</td>\n",
       "      <td>[1.8649459783913565, 1.8337735094037613]</td>\n",
       "      <td>0.5</td>\n",
       "      <td>-1.532681</td>\n",
       "    </tr>\n",
       "    <tr>\n",
       "      <th>8</th>\n",
       "      <td>8</td>\n",
       "      <td>1</td>\n",
       "      <td>1</td>\n",
       "      <td>82</td>\n",
       "      <td>Human</td>\n",
       "      <td>[2.2530576377419216, 3.264542231579457]</td>\n",
       "      <td>0.5</td>\n",
       "      <td>-1.581451</td>\n",
       "    </tr>\n",
       "    <tr>\n",
       "      <th>9</th>\n",
       "      <td>9</td>\n",
       "      <td>0</td>\n",
       "      <td>1</td>\n",
       "      <td>130</td>\n",
       "      <td>Human</td>\n",
       "      <td>[1.7122613192145106, 1.705338550106868]</td>\n",
       "      <td>0.5</td>\n",
       "      <td>-1.580657</td>\n",
       "    </tr>\n",
       "  </tbody>\n",
       "</table>\n",
       "</div>"
      ],
      "text/plain": [
       "   id  origin  destination  start_time   kind  \\\n",
       "0   0       0            1          56  Human   \n",
       "1   1       0            1          48  Human   \n",
       "2   2       0            1         125  Human   \n",
       "3   3       0            0         143  Human   \n",
       "4   4       1            0         125  Human   \n",
       "5   5       0            1         141  Human   \n",
       "6   6       0            1         159  Human   \n",
       "7   7       1            0         131  Human   \n",
       "8   8       1            1          82  Human   \n",
       "9   9       0            1         130  Human   \n",
       "\n",
       "                                      costs  alpha_zero      beta  \n",
       "0  [1.8649459783913565, 1.8337735094037613]         0.5 -1.438114  \n",
       "1   [2.2530576377419216, 3.264542231579457]         0.5 -1.598700  \n",
       "2  [1.8649459783913565, 1.8337735094037613]         0.5 -1.438836  \n",
       "3  [1.8649459783913565, 1.8337735094037613]         0.5 -1.460372  \n",
       "4   [2.2530576377419216, 3.264542231579457]         0.5 -1.531950  \n",
       "5  [1.8649459783913565, 1.8337735094037613]         0.5 -1.568904  \n",
       "6  [1.8649459783913565, 1.8337735094037613]         0.5 -1.408557  \n",
       "7  [1.8649459783913565, 1.8337735094037613]         0.5 -1.532681  \n",
       "8   [2.2530576377419216, 3.264542231579457]         0.5 -1.581451  \n",
       "9   [1.7122613192145106, 1.705338550106868]         0.5 -1.580657  "
      ]
     },
     "execution_count": 7,
     "metadata": {},
     "output_type": "execute_result"
    }
   ],
   "source": [
    "agents_data_df"
   ]
  },
  {
   "cell_type": "code",
   "execution_count": 29,
   "metadata": {},
   "outputs": [
    {
     "data": {
      "text/plain": [
       "{'num_agents': 10,\n",
       " 'new_machines_after_mutation': 25,\n",
       " 'machine_parameters': {'behavior': 'selfish',\n",
       "  'observed_span': 300,\n",
       "  'observation_type': 'previous_agents_plus_start_time'},\n",
       " 'human_parameters': {'model': 'gawron',\n",
       "  'alpha_j': 0.5,\n",
       "  'alpha_zero': 0.8,\n",
       "  'beta': -1.5,\n",
       "  'beta_randomness': 0.1,\n",
       "  'remember': 3},\n",
       " 'simulation_timesteps': 180,\n",
       " 'origins': ['441496282#0', '154551772#1'],\n",
       " 'destinations': ['-115604057#1', '-279952229#4'],\n",
       " 'action_space_size': 2,\n",
       " 'records_folder': 'training_records',\n",
       " 'greedy': 0}"
      ]
     },
     "execution_count": 29,
     "metadata": {},
     "output_type": "execute_result"
    }
   ],
   "source": [
    "env.agent_params"
   ]
  },
  {
   "cell_type": "code",
   "execution_count": 202,
   "metadata": {},
   "outputs": [],
   "source": [
    "def sample_cost(mean, plus=0, multiply=1, noise=0):\n",
    "    return np.random.normal(1,noise)*(multiply*mean+plus)\n",
    "\n",
    "def learning_trajectory(agent, days, reset = False, noise = 0):\n",
    "    if reset:\n",
    "        agent.model.costs = env.get_free_flow_times()[agent.origin,agent.destination]\n",
    "    day = 1\n",
    "    ret = dict()\n",
    "    while day <= days:\n",
    "        action = agent.act(None)\n",
    "        reward = sample_cost(mean = agent.model.costs[action], plus=0, multiply=1, noise=noise)\n",
    "        agent.model.learn(state = None, action = action, reward = reward)\n",
    "        ret[day]={\"action\":action, \"reward\":reward, \"costs\":[agent.model.costs[_] for _ in [0,1]]}\n",
    "        day+=1\n",
    "    return pd.DataFrame(ret).T"
   ]
  },
  {
   "cell_type": "code",
   "execution_count": 149,
   "metadata": {},
   "outputs": [],
   "source": [
    "from one_model import GeneralHuman, ProbabilisticModel, GawronModel\n"
   ]
  },
  {
   "cell_type": "code",
   "execution_count": 137,
   "metadata": {},
   "outputs": [],
   "source": [
    "agent = all_agents[0]\n",
    "agent.model = ProbabilisticModel(env.agent_params, env.get_free_flow_times()[agent.origin,agent.destination])"
   ]
  },
  {
   "cell_type": "code",
   "execution_count": 146,
   "metadata": {},
   "outputs": [
    {
     "data": {
      "text/html": [
       "<div>\n",
       "<style scoped>\n",
       "    .dataframe tbody tr th:only-of-type {\n",
       "        vertical-align: middle;\n",
       "    }\n",
       "\n",
       "    .dataframe tbody tr th {\n",
       "        vertical-align: top;\n",
       "    }\n",
       "\n",
       "    .dataframe thead th {\n",
       "        text-align: right;\n",
       "    }\n",
       "</style>\n",
       "<table border=\"1\" class=\"dataframe\">\n",
       "  <thead>\n",
       "    <tr style=\"text-align: right;\">\n",
       "      <th></th>\n",
       "      <th>action</th>\n",
       "      <th>reward</th>\n",
       "      <th>costs</th>\n",
       "    </tr>\n",
       "  </thead>\n",
       "  <tbody>\n",
       "    <tr>\n",
       "      <th>1</th>\n",
       "      <td>0</td>\n",
       "      <td>1.276451</td>\n",
       "      <td>[1.2764505802320931, 1.307623049219688]</td>\n",
       "    </tr>\n",
       "    <tr>\n",
       "      <th>2</th>\n",
       "      <td>0</td>\n",
       "      <td>1.276451</td>\n",
       "      <td>[1.2764505802320931, 1.307623049219688]</td>\n",
       "    </tr>\n",
       "    <tr>\n",
       "      <th>3</th>\n",
       "      <td>1</td>\n",
       "      <td>1.307623</td>\n",
       "      <td>[1.2764505802320931, 1.307623049219688]</td>\n",
       "    </tr>\n",
       "    <tr>\n",
       "      <th>4</th>\n",
       "      <td>0</td>\n",
       "      <td>1.276451</td>\n",
       "      <td>[1.2764505802320933, 1.307623049219688]</td>\n",
       "    </tr>\n",
       "    <tr>\n",
       "      <th>5</th>\n",
       "      <td>0</td>\n",
       "      <td>1.276451</td>\n",
       "      <td>[1.2764505802320933, 1.307623049219688]</td>\n",
       "    </tr>\n",
       "    <tr>\n",
       "      <th>6</th>\n",
       "      <td>0</td>\n",
       "      <td>1.276451</td>\n",
       "      <td>[1.2764505802320933, 1.307623049219688]</td>\n",
       "    </tr>\n",
       "    <tr>\n",
       "      <th>7</th>\n",
       "      <td>1</td>\n",
       "      <td>1.307623</td>\n",
       "      <td>[1.2764505802320933, 1.307623049219688]</td>\n",
       "    </tr>\n",
       "    <tr>\n",
       "      <th>8</th>\n",
       "      <td>1</td>\n",
       "      <td>1.307623</td>\n",
       "      <td>[1.2764505802320933, 1.307623049219688]</td>\n",
       "    </tr>\n",
       "    <tr>\n",
       "      <th>9</th>\n",
       "      <td>0</td>\n",
       "      <td>1.276451</td>\n",
       "      <td>[1.2764505802320933, 1.307623049219688]</td>\n",
       "    </tr>\n",
       "    <tr>\n",
       "      <th>10</th>\n",
       "      <td>0</td>\n",
       "      <td>1.276451</td>\n",
       "      <td>[1.2764505802320933, 1.307623049219688]</td>\n",
       "    </tr>\n",
       "  </tbody>\n",
       "</table>\n",
       "</div>"
      ],
      "text/plain": [
       "   action    reward                                    costs\n",
       "1       0  1.276451  [1.2764505802320931, 1.307623049219688]\n",
       "2       0  1.276451  [1.2764505802320931, 1.307623049219688]\n",
       "3       1  1.307623  [1.2764505802320931, 1.307623049219688]\n",
       "4       0  1.276451  [1.2764505802320933, 1.307623049219688]\n",
       "5       0  1.276451  [1.2764505802320933, 1.307623049219688]\n",
       "6       0  1.276451  [1.2764505802320933, 1.307623049219688]\n",
       "7       1  1.307623  [1.2764505802320933, 1.307623049219688]\n",
       "8       1  1.307623  [1.2764505802320933, 1.307623049219688]\n",
       "9       0  1.276451  [1.2764505802320933, 1.307623049219688]\n",
       "10      0  1.276451  [1.2764505802320933, 1.307623049219688]"
      ]
     },
     "execution_count": 146,
     "metadata": {},
     "output_type": "execute_result"
    }
   ],
   "source": [
    "learning_trajectory(agent,T, reset = True)"
   ]
  },
  {
   "cell_type": "code",
   "execution_count": 148,
   "metadata": {},
   "outputs": [
    {
     "data": {
      "text/html": [
       "<div>\n",
       "<style scoped>\n",
       "    .dataframe tbody tr th:only-of-type {\n",
       "        vertical-align: middle;\n",
       "    }\n",
       "\n",
       "    .dataframe tbody tr th {\n",
       "        vertical-align: top;\n",
       "    }\n",
       "\n",
       "    .dataframe thead th {\n",
       "        text-align: right;\n",
       "    }\n",
       "</style>\n",
       "<table border=\"1\" class=\"dataframe\">\n",
       "  <thead>\n",
       "    <tr style=\"text-align: right;\">\n",
       "      <th></th>\n",
       "      <th>action</th>\n",
       "      <th>reward</th>\n",
       "      <th>costs</th>\n",
       "    </tr>\n",
       "  </thead>\n",
       "  <tbody>\n",
       "    <tr>\n",
       "      <th>1</th>\n",
       "      <td>0</td>\n",
       "      <td>5.000011</td>\n",
       "      <td>[5.000002130461264, 50.0]</td>\n",
       "    </tr>\n",
       "    <tr>\n",
       "      <th>2</th>\n",
       "      <td>0</td>\n",
       "      <td>5.000007</td>\n",
       "      <td>[5.000009963478625, 50.0]</td>\n",
       "    </tr>\n",
       "    <tr>\n",
       "      <th>3</th>\n",
       "      <td>0</td>\n",
       "      <td>4.999985</td>\n",
       "      <td>[5.000002794721793, 50.0]</td>\n",
       "    </tr>\n",
       "    <tr>\n",
       "      <th>4</th>\n",
       "      <td>0</td>\n",
       "      <td>5.000013</td>\n",
       "      <td>[4.9999907365889396, 50.0]</td>\n",
       "    </tr>\n",
       "    <tr>\n",
       "      <th>5</th>\n",
       "      <td>0</td>\n",
       "      <td>4.999954</td>\n",
       "      <td>[5.000001277669572, 50.0]</td>\n",
       "    </tr>\n",
       "    <tr>\n",
       "      <th>...</th>\n",
       "      <td>...</td>\n",
       "      <td>...</td>\n",
       "      <td>...</td>\n",
       "    </tr>\n",
       "    <tr>\n",
       "      <th>96</th>\n",
       "      <td>0</td>\n",
       "      <td>4.999838</td>\n",
       "      <td>[4.999787439133495, 50.0]</td>\n",
       "    </tr>\n",
       "    <tr>\n",
       "      <th>97</th>\n",
       "      <td>0</td>\n",
       "      <td>4.999799</td>\n",
       "      <td>[4.99983000996014, 50.0]</td>\n",
       "    </tr>\n",
       "    <tr>\n",
       "      <th>98</th>\n",
       "      <td>0</td>\n",
       "      <td>4.999879</td>\n",
       "      <td>[4.999814747512753, 50.0]</td>\n",
       "    </tr>\n",
       "    <tr>\n",
       "      <th>99</th>\n",
       "      <td>0</td>\n",
       "      <td>4.999802</td>\n",
       "      <td>[4.999863828620383, 50.0]</td>\n",
       "    </tr>\n",
       "    <tr>\n",
       "      <th>100</th>\n",
       "      <td>0</td>\n",
       "      <td>4.999837</td>\n",
       "      <td>[4.999808874561132, 50.0]</td>\n",
       "    </tr>\n",
       "  </tbody>\n",
       "</table>\n",
       "<p>100 rows × 3 columns</p>\n",
       "</div>"
      ],
      "text/plain": [
       "    action    reward                       costs\n",
       "1        0  5.000011   [5.000002130461264, 50.0]\n",
       "2        0  5.000007   [5.000009963478625, 50.0]\n",
       "3        0  4.999985   [5.000002794721793, 50.0]\n",
       "4        0  5.000013  [4.9999907365889396, 50.0]\n",
       "5        0  4.999954   [5.000001277669572, 50.0]\n",
       "..     ...       ...                         ...\n",
       "96       0  4.999838   [4.999787439133495, 50.0]\n",
       "97       0  4.999799    [4.99983000996014, 50.0]\n",
       "98       0  4.999879   [4.999814747512753, 50.0]\n",
       "99       0  4.999802   [4.999863828620383, 50.0]\n",
       "100      0  4.999837   [4.999808874561132, 50.0]\n",
       "\n",
       "[100 rows x 3 columns]"
      ]
     },
     "execution_count": 148,
     "metadata": {},
     "output_type": "execute_result"
    }
   ],
   "source": [
    "agent = all_agents[1]\n",
    "agent.model = GawronModel(env.agent_params, initial_knowledge=[5,50])\n",
    "learning_trajectory(agent,100, reset = False, noise = 0.00001)"
   ]
  },
  {
   "cell_type": "code",
   "execution_count": 205,
   "metadata": {},
   "outputs": [
    {
     "data": {
      "text/html": [
       "<div>\n",
       "<style scoped>\n",
       "    .dataframe tbody tr th:only-of-type {\n",
       "        vertical-align: middle;\n",
       "    }\n",
       "\n",
       "    .dataframe tbody tr th {\n",
       "        vertical-align: top;\n",
       "    }\n",
       "\n",
       "    .dataframe thead th {\n",
       "        text-align: right;\n",
       "    }\n",
       "</style>\n",
       "<table border=\"1\" class=\"dataframe\">\n",
       "  <thead>\n",
       "    <tr style=\"text-align: right;\">\n",
       "      <th></th>\n",
       "      <th>action</th>\n",
       "      <th>reward</th>\n",
       "      <th>costs</th>\n",
       "    </tr>\n",
       "  </thead>\n",
       "  <tbody>\n",
       "    <tr>\n",
       "      <th>1</th>\n",
       "      <td>0</td>\n",
       "      <td>5.153075</td>\n",
       "      <td>[5.091844764232718, 10.0]</td>\n",
       "    </tr>\n",
       "    <tr>\n",
       "      <th>2</th>\n",
       "      <td>0</td>\n",
       "      <td>5.340137</td>\n",
       "      <td>[5.1923111731138665, 10.0]</td>\n",
       "    </tr>\n",
       "    <tr>\n",
       "      <th>3</th>\n",
       "      <td>0</td>\n",
       "      <td>5.002078</td>\n",
       "      <td>[5.0836375228107, 10.0]</td>\n",
       "    </tr>\n",
       "    <tr>\n",
       "      <th>4</th>\n",
       "      <td>0</td>\n",
       "      <td>5.042821</td>\n",
       "      <td>[5.0883123339540415, 10.0]</td>\n",
       "    </tr>\n",
       "    <tr>\n",
       "      <th>5</th>\n",
       "      <td>0</td>\n",
       "      <td>5.164744</td>\n",
       "      <td>[5.1225040089155085, 10.0]</td>\n",
       "    </tr>\n",
       "    <tr>\n",
       "      <th>...</th>\n",
       "      <td>...</td>\n",
       "      <td>...</td>\n",
       "      <td>...</td>\n",
       "    </tr>\n",
       "    <tr>\n",
       "      <th>96</th>\n",
       "      <td>0</td>\n",
       "      <td>4.611397</td>\n",
       "      <td>[4.5108925145673275, 10.0]</td>\n",
       "    </tr>\n",
       "    <tr>\n",
       "      <th>97</th>\n",
       "      <td>0</td>\n",
       "      <td>4.554436</td>\n",
       "      <td>[4.551993721837781, 10.0]</td>\n",
       "    </tr>\n",
       "    <tr>\n",
       "      <th>98</th>\n",
       "      <td>0</td>\n",
       "      <td>4.89895</td>\n",
       "      <td>[4.673843859978495, 10.0]</td>\n",
       "    </tr>\n",
       "    <tr>\n",
       "      <th>99</th>\n",
       "      <td>0</td>\n",
       "      <td>4.345203</td>\n",
       "      <td>[4.534042056447012, 10.0]</td>\n",
       "    </tr>\n",
       "    <tr>\n",
       "      <th>100</th>\n",
       "      <td>0</td>\n",
       "      <td>4.528064</td>\n",
       "      <td>[4.645348494650031, 10.0]</td>\n",
       "    </tr>\n",
       "  </tbody>\n",
       "</table>\n",
       "<p>100 rows × 3 columns</p>\n",
       "</div>"
      ],
      "text/plain": [
       "    action    reward                       costs\n",
       "1        0  5.153075   [5.091844764232718, 10.0]\n",
       "2        0  5.340137  [5.1923111731138665, 10.0]\n",
       "3        0  5.002078     [5.0836375228107, 10.0]\n",
       "4        0  5.042821  [5.0883123339540415, 10.0]\n",
       "5        0  5.164744  [5.1225040089155085, 10.0]\n",
       "..     ...       ...                         ...\n",
       "96       0  4.611397  [4.5108925145673275, 10.0]\n",
       "97       0  4.554436   [4.551993721837781, 10.0]\n",
       "98       0   4.89895   [4.673843859978495, 10.0]\n",
       "99       0  4.345203   [4.534042056447012, 10.0]\n",
       "100      0  4.528064   [4.645348494650031, 10.0]\n",
       "\n",
       "[100 rows x 3 columns]"
      ]
     },
     "execution_count": 205,
     "metadata": {},
     "output_type": "execute_result"
    }
   ],
   "source": [
    "agent = all_agents[2]\n",
    "agent.model = WeightedModel(env.agent_params, [5,10])\n",
    "df = learning_trajectory(agent,100, reset = False, noise = 0.05)\n",
    "df"
   ]
  },
  {
   "cell_type": "code",
   "execution_count": 212,
   "metadata": {},
   "outputs": [
    {
     "data": {
      "text/plain": [
       "<Axes: >"
      ]
     },
     "execution_count": 212,
     "metadata": {},
     "output_type": "execute_result"
    },
    {
     "data": {
      "image/png": "[encoded data removed]",
      "text/plain": [
       "<Figure size 640x480 with 1 Axes>"
      ]
     },
     "metadata": {},
     "output_type": "display_data"
    }
   ],
   "source": [
    "import matplotlib.pyplot as plt\n",
    "fig, ax = plt.subplots()\n",
    "pd.Series([_[0] for _ in df.costs]).plot(ax = ax)\n",
    "df.reward.plot(ax=ax)\n"
   ]
  },
  {
   "cell_type": "code",
   "execution_count": 56,
   "metadata": {},
   "outputs": [],
   "source": [
    "agent.model = GeneralHuman(env.agent_params, env.get_free_flow_times()[agent.origin,agent.destination])"
   ]
  },
  {
   "cell_type": "code",
   "execution_count": 103,
   "metadata": {},
   "outputs": [
    {
     "data": {
      "text/plain": [
       "[np.float64(0.0), np.float64(0.0)]"
      ]
     },
     "execution_count": 103,
     "metadata": {},
     "output_type": "execute_result"
    }
   ],
   "source": [
    "agent.model.get_noises()"
   ]
  },
  {
   "cell_type": "code",
   "execution_count": 79,
   "metadata": {},
   "outputs": [
    {
     "data": {
      "text/plain": [
       "1"
      ]
     },
     "execution_count": 79,
     "metadata": {},
     "output_type": "execute_result"
    }
   ],
   "source": [
    "agent.model.act(None)"
   ]
  },
  {
   "cell_type": "code",
   "execution_count": 74,
   "metadata": {},
   "outputs": [
    {
     "data": {
      "text/plain": [
       "[np.float64(-1.8649459783913565), np.float64(-1.8337735094037613)]"
      ]
     },
     "execution_count": 74,
     "metadata": {},
     "output_type": "execute_result"
    }
   ],
   "source": [
    "\n",
    "utilities = [agent.model.beta_k_i[i]* agent.model.costs[i] + noise for i,noise in enumerate(agent.model.get_noises())]\n",
    "utilities"
   ]
  },
  {
   "cell_type": "code",
   "execution_count": 87,
   "metadata": {},
   "outputs": [],
   "source": [
    "agent.model.learn(state = None, action = 0, reward = 3)"
   ]
  },
  {
   "cell_type": "code",
   "execution_count": 38,
   "metadata": {},
   "outputs": [],
   "source": [
    "agent.model.learn(state = None, action = agent.act(None), reward = 3)"
   ]
  },
  {
   "cell_type": "code",
   "execution_count": 34,
   "metadata": {},
   "outputs": [
    {
     "data": {
      "text/plain": [
       "array([0. , 2.4, 0. , 0. , 0. ])"
      ]
     },
     "execution_count": 34,
     "metadata": {},
     "output_type": "execute_result"
    }
   ],
   "source": [
    "agent.model.cost"
   ]
  },
  {
   "cell_type": "code",
   "execution_count": 36,
   "metadata": {},
   "outputs": [
    {
     "data": {
      "text/plain": [
       "1"
      ]
     },
     "execution_count": 36,
     "metadata": {},
     "output_type": "execute_result"
    }
   ],
   "source": [
    "agent.act(None)"
   ]
  },
  {
   "cell_type": "code",
   "execution_count": 62,
   "metadata": {},
   "outputs": [
    {
     "ename": "KeyError",
     "evalue": "'beta_randomness'",
     "output_type": "error",
     "traceback": [
      "\u001b[31m---------------------------------------------------------------------------\u001b[39m",
      "\u001b[31mKeyError\u001b[39m                                  Traceback (most recent call last)",
      "\u001b[36mCell\u001b[39m\u001b[36m \u001b[39m\u001b[32mIn[62]\u001b[39m\u001b[32m, line 1\u001b[39m\n\u001b[32m----> \u001b[39m\u001b[32m1\u001b[39m \u001b[43menv\u001b[49m\u001b[43m.\u001b[49m\u001b[43magent_params\u001b[49m\u001b[43m[\u001b[49m\u001b[43mkc\u001b[49m\u001b[43m.\u001b[49m\u001b[43mBETA_RANDOMNESS\u001b[49m\u001b[43m]\u001b[49m\n",
      "\u001b[31mKeyError\u001b[39m: 'beta_randomness'"
     ]
    }
   ],
   "source": [
    "env.agent_params[kc.BETA_RANDOMNESS]"
   ]
  },
  {
   "cell_type": "code",
   "execution_count": 1,
   "metadata": {},
   "outputs": [],
   "source": [
    "from one_model import *"
   ]
  },
  {
   "cell_type": "code",
   "execution_count": null,
   "metadata": {},
   "outputs": [
    {
     "data": {
      "text/plain": [
       "one_model.HumanAgent"
      ]
     },
     "execution_count": 3,
     "metadata": {},
     "output_type": "execute_result"
    }
   ],
   "source": []
  },
  {
   "cell_type": "code",
   "execution_count": null,
   "metadata": {},
   "outputs": [],
   "source": []
  }
 ],
 "metadata": {
  "kernelspec": {
   "display_name": "Python 3",
   "language": "python",
   "name": "python3"
  },
  "language_info": {
   "codemirror_mode": {
    "name": "ipython",
    "version": 3
   },
   "file_extension": ".py",
   "mimetype": "text/x-python",
   "name": "python",
   "nbconvert_exporter": "python",
   "pygments_lexer": "ipython3",
   "version": "3.12.9"
  }
 },
 "nbformat": 4,
 "nbformat_minor": 2
}
